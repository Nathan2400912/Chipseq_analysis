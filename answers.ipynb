{
 "cells": [
  {
   "attachments": {},
   "cell_type": "markdown",
   "metadata": {},
   "source": [
    "spearman"
   ]
  },
  {
   "attachments": {},
   "cell_type": "markdown",
   "metadata": {},
   "source": [
    "I used bedtools intersect because it is more stirngent than bedtools merge, it only includes peaks that are called in both replicates. In addition, I also added a requirement of 50% reciprocal overlap to ensure that peaks are not only overlapping marginally but are spatially consistent. "
   ]
  }
 ],
 "metadata": {
  "language_info": {
   "name": "python"
  },
  "orig_nbformat": 4
 },
 "nbformat": 4,
 "nbformat_minor": 2
}
